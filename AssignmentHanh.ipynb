{
 "cells": [
  {
   "cell_type": "markdown",
   "id": "6cb259d9-c9b9-46c0-b8f9-f8732589acd0",
   "metadata": {},
   "source": [
    "# My Jupyter Notebook on IBM Watson Studio"
   ]
  },
  {
   "cell_type": "markdown",
   "id": "7cc70750-095a-41a4-8c29-d3820497789e",
   "metadata": {},
   "source": [
    "**Hanh** \\\n",
    "Finance professional aspires to be a data scientist"
   ]
  },
  {
   "cell_type": "markdown",
   "id": "54ae661b-31eb-455a-9cdb-a7d872b550ca",
   "metadata": {},
   "source": [
    "*I am interested in data science because I enjoy working with data and I also love coding very much. Furthermore, data science and my current profession, that is finance, is a great combination.*"
   ]
  },
  {
   "cell_type": "markdown",
   "id": "edbe7cd0-0bf6-4539-b192-aec4e07bbc82",
   "metadata": {},
   "source": [
    "### My code in cell 5 (next cell) is supposed to sum the numbers 1,5 and 10."
   ]
  },
  {
   "cell_type": "code",
   "execution_count": 2,
   "id": "1fce52d9-e459-49d7-a9ed-eb4c95227bf6",
   "metadata": {},
   "outputs": [
    {
     "data": {
      "text/plain": [
       "16"
      ]
     },
     "execution_count": 2,
     "metadata": {},
     "output_type": "execute_result"
    }
   ],
   "source": [
    "1+5+10"
   ]
  },
  {
   "cell_type": "markdown",
   "id": "9711f6e9-c848-4136-aa5b-a33211469878",
   "metadata": {},
   "source": [
    "Bulleted list\n",
    "- bullet point X\n",
    "- bullet point Y\n",
    "- bullet point Z\n",
    "\n",
    "Numbered list\n",
    "1. point X\n",
    "1. point Y\n",
    "1. point Z\n",
    "\n",
    "Table\n",
    "| Column  | Column | Column  |\n",
    "| --- | --- | --- |\n",
    "| cell  | cell | cell |"
   ]
  }
 ],
 "metadata": {
  "kernelspec": {
   "display_name": "Python",
   "language": "python",
   "name": "conda-env-python-py"
  },
  "language_info": {
   "codemirror_mode": {
    "name": "ipython",
    "version": 3
   },
   "file_extension": ".py",
   "mimetype": "text/x-python",
   "name": "python",
   "nbconvert_exporter": "python",
   "pygments_lexer": "ipython3",
   "version": "3.7.12"
  }
 },
 "nbformat": 4,
 "nbformat_minor": 5
}
